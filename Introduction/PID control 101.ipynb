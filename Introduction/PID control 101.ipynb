{
 "cells": [
  {
   "cell_type": "markdown",
   "id": "293a8762",
   "metadata": {},
   "source": [
    "# Introduction"
   ]
  },
  {
   "cell_type": "markdown",
   "id": "96f11a65",
   "metadata": {},
   "source": [
    "In this notebook I cover the basic theory and implementation of a PID control.\n",
    "\n",
    "The notebook will be divided into following sections:\n",
    "    1) Dynamic behaviour of first and second order systems.\n",
    "    2) Typical responses of PID control systems.\n",
    "    3) Stability of closed loop control systems.\n",
    "    4) PID controller Design and tuning.\n",
    "    5) Shortcomings of a PID controller."
   ]
  },
  {
   "cell_type": "markdown",
   "id": "46aab527",
   "metadata": {},
   "source": [
    "# Setting up MathJax for numbering"
   ]
  },
  {
   "cell_type": "code",
   "execution_count": 1,
   "id": "9b56310f",
   "metadata": {},
   "outputs": [
    {
     "data": {
      "application/javascript": [
       "MathJax.Hub.Config({\n",
       "    TeX: { equationNumbers: { autoNumber: \"AMS\" } }\n",
       "});\n"
      ],
      "text/plain": [
       "<IPython.core.display.Javascript object>"
      ]
     },
     "metadata": {},
     "output_type": "display_data"
    }
   ],
   "source": [
    "%%javascript\n",
    "MathJax.Hub.Config({\n",
    "    TeX: { equationNumbers: { autoNumber: \"AMS\" } }\n",
    "});"
   ]
  },
  {
   "cell_type": "code",
   "execution_count": 2,
   "id": "1324bb62",
   "metadata": {},
   "outputs": [
    {
     "data": {
      "application/javascript": [
       "MathJax.Hub.Queue(\n",
       "  [\"resetEquationNumbers\", MathJax.InputJax.TeX],\n",
       "  [\"PreProcess\", MathJax.Hub],\n",
       "  [\"Reprocess\", MathJax.Hub]\n",
       ");\n"
      ],
      "text/plain": [
       "<IPython.core.display.Javascript object>"
      ]
     },
     "metadata": {},
     "output_type": "display_data"
    }
   ],
   "source": [
    "%%javascript\n",
    "MathJax.Hub.Queue(\n",
    "  [\"resetEquationNumbers\", MathJax.InputJax.TeX],\n",
    "  [\"PreProcess\", MathJax.Hub],\n",
    "  [\"Reprocess\", MathJax.Hub]\n",
    ");"
   ]
  },
  {
   "cell_type": "markdown",
   "id": "6402cab2",
   "metadata": {},
   "source": [
    "# Dynamic behaviour of first and second order systems"
   ]
  },
  {
   "cell_type": "markdown",
   "id": "022eb8d6",
   "metadata": {},
   "source": [
    "As a starting point, let us analyse the dynamics of a first order system"
   ]
  },
  {
   "cell_type": "markdown",
   "id": "85ca0407",
   "metadata": {},
   "source": [
    "A first order system with state $y$ and input $u$ in standard form is written as:"
   ]
  },
  {
   "cell_type": "markdown",
   "id": "e206b1f4",
   "metadata": {},
   "source": [
    "\\begin{equation}\n",
    "\\tau \\frac{dy(t)}{dt} + y(t) = k u(t), \\label{eq:standard}\n",
    "\\end{equation}"
   ]
  },
  {
   "cell_type": "markdown",
   "id": "a19e48fe",
   "metadata": {},
   "source": [
    "where $\\tau$ is known as the time-constant and $k$ is known as the gain of the system. Moving forward, we simplify the notation and write $y(t)$ and $u(t)$ as $y$ and $u$ respectively."
   ]
  },
  {
   "cell_type": "markdown",
   "id": "1ff837ec",
   "metadata": {},
   "source": [
    "The parameter $k$ is known as the gain of the system because 1 unit change in $u$ produces $k$ units of change in $y$ at steady state. Steady state is defined as the state when $y$ becomes steady (constant)."
   ]
  },
  {
   "cell_type": "markdown",
   "id": "7028a00d",
   "metadata": {},
   "source": [
    "To see this we simulate system \\ref{eq:standard} with the parameter values $\\tau = 1, k = 2$ and the following control input:"
   ]
  },
  {
   "cell_type": "markdown",
   "id": "d475f9ac",
   "metadata": {},
   "source": [
    "\\begin{equation}\n",
    "u =\n",
    "\\begin{cases}\n",
    "      0, & \\text{if}\\ t < 0 \\\\\n",
    "      1, & \\text{if}\\ t \\geq 0\n",
    "    \\end{cases}\n",
    "\\end{equation}"
   ]
  },
  {
   "cell_type": "code",
   "execution_count": 3,
   "id": "251c2c20",
   "metadata": {},
   "outputs": [
    {
     "data": {
      "text/plain": [
       "Text(0, 0.5, 'u(t)')"
      ]
     },
     "execution_count": 3,
     "metadata": {},
     "output_type": "execute_result"
    },
    {
     "data": {
      "image/png": "[encoded data removed]",
      "text/plain": [
       "<Figure size 1200x400 with 2 Axes>"
      ]
     },
     "metadata": {},
     "output_type": "display_data"
    }
   ],
   "source": [
    "import matplotlib.pyplot as plt\n",
    "import numpy as np\n",
    "from scipy.integrate import solve_ivp\n",
    "\n",
    "def u(t):\n",
    "    return np.where(t < 0, 0, 1) \n",
    "\n",
    "tau = 1\n",
    "k = 2\n",
    "F = lambda t, y: (-y + k*u(t)) / tau\n",
    "\n",
    "t_eval = np.arange(-5, 10.1, 0.1)\n",
    "sol = solve_ivp(F, [-5, 10], [0], t_eval=t_eval)\n",
    "\n",
    "plt.figure(figsize = (12, 4))\n",
    "plt.subplot(121)\n",
    "plt.plot(sol.t, sol.y[0])\n",
    "plt.xlabel('t')\n",
    "plt.ylabel('y(t)')\n",
    "\n",
    "plt.subplot(122)\n",
    "plt.plot(sol.t, u(sol.t))\n",
    "plt.xlabel('t')\n",
    "plt.ylabel('u(t)')"
   ]
  },
  {
   "cell_type": "markdown",
   "id": "ae7a48ee",
   "metadata": {},
   "source": [
    "Observe that in t = 1 unit, $y$ attains 63% of its final value. In t = 3 units, 95% of its final value and in t = 5 units, 99.3% of its final value. Since time can be normalized by $\\tau$, this phenomena can be expected in $\\tau$ units when $\\tau \\neq 1$. The steady state value of y is twice the steady state vlaue of $u$."
   ]
  },
  {
   "cell_type": "markdown",
   "id": "a45ca3c8",
   "metadata": {},
   "source": [
    "NOTE: To analyse the behaviour of a system at steady state, set all time derivative terms to zero. \n",
    "\n",
    "In the case of system \\ref{eq:standard}, \n",
    "$$\n",
    "y_s = k u_s,\n",
    "$$\n",
    "where the subscripts s denote the steady state values."
   ]
  },
  {
   "cell_type": "markdown",
   "id": "16bd57a7",
   "metadata": {},
   "source": [
    "## Canonical form"
   ]
  },
  {
   "cell_type": "markdown",
   "id": "903cff0b",
   "metadata": {},
   "source": [
    "In cannonical form, system \\ref{eq:standard} is written as"
   ]
  },
  {
   "cell_type": "markdown",
   "id": "2b4c0c5d",
   "metadata": {},
   "source": [
    "\\begin{equation}\n",
    "\\frac{dy}{dt} = a y + b u \\label{eq:canonical}\n",
    "\\end{equation}"
   ]
  },
  {
   "cell_type": "markdown",
   "id": "f47b2a7f",
   "metadata": {},
   "source": [
    "where $a = 1/\\tau$ and $b = k/ \\tau$. "
   ]
  },
  {
   "cell_type": "markdown",
   "id": "7a3df8eb",
   "metadata": {},
   "source": [
    "In general, the canonical form for a $n^{th}$ order linear dynamical system is written as:"
   ]
  },
  {
   "cell_type": "markdown",
   "id": "b0300357",
   "metadata": {},
   "source": [
    "\\begin{equation}\n",
    "    \\frac{d\\mathbf{y}}{dt} = A \\mathbf{y} + B \\mathbf{u} \\label{eq:n_canonical},\n",
    "\\end{equation}"
   ]
  },
  {
   "cell_type": "markdown",
   "id": "2cf54bf5",
   "metadata": {},
   "source": [
    "where $\\mathbf{y}$ is a $n$ dimensional state vector, $\\mathbf{u}$ is a $m$ dimensional input vector. $A$ is a $n\\times n$ matrix and $B$ is a $n \\times m$ matrix."
   ]
  },
  {
   "cell_type": "markdown",
   "id": "a1e035c7",
   "metadata": {},
   "source": [
    "Any $n^{th}$ order differential equation can be converted into cannonical form."
   ]
  },
  {
   "cell_type": "markdown",
   "id": "9b7b08f0",
   "metadata": {},
   "source": [
    "For example, take the case of a harmonic oscillator with damping:"
   ]
  },
  {
   "cell_type": "markdown",
   "id": "36cd6ec7",
   "metadata": {},
   "source": [
    "\\begin{equation}\n",
    "    \\frac{d^2 x}{dt^2} = - k x - \\eta \\frac{dx}{dt} + b u, \\label{eq:harmonic}\n",
    "\\end{equation}"
   ]
  },
  {
   "cell_type": "markdown",
   "id": "9639b2c9",
   "metadata": {},
   "source": [
    "where $x$ is the position of the oscilator, $k$ is the harmonic constant, and $\\eta$ is the drag co-efficient."
   ]
  },
  {
   "cell_type": "markdown",
   "id": "58cff8c5",
   "metadata": {},
   "source": [
    "Equation \\ref{eq:harmonic} can be written in canonical form as:"
   ]
  },
  {
   "cell_type": "markdown",
   "id": "a7c6e101",
   "metadata": {},
   "source": [
    "\\begin{equation}\n",
    "\\frac{d}{dt} \\begin{bmatrix} x\\\\v \\end{bmatrix}=\n",
    "    \\begin{bmatrix} 0&1\\\\-k&-\\eta \\end{bmatrix}\n",
    " \\begin{bmatrix} x\\\\v \\end{bmatrix}\n",
    " + \\begin{bmatrix} 0\\\\b \\end{bmatrix} u. \\label{eq:harmonic_canonical}\n",
    "\\end{equation}"
   ]
  },
  {
   "cell_type": "markdown",
   "id": "e135d1cc",
   "metadata": {},
   "source": [
    "The harmonic oscillator is considered a linear system, and linear systems can always be written into a canonical form.\n",
    "Recall, a system $\\mathcal{L}$ is considered linear iff\n",
    "$$\n",
    "\\mathcal{L}(y_1 + y_2) = \\mathcal{L}(y_1) + \\mathcal{L}(y_2) \n",
    "$$"
   ]
  },
  {
   "cell_type": "markdown",
   "id": "ef0effea",
   "metadata": {},
   "source": [
    "## Stable and Unstable systems"
   ]
  },
  {
   "cell_type": "markdown",
   "id": "fbc3dc0d",
   "metadata": {},
   "source": [
    "A system is called stable when a small disturbace to the state $y$ decreases and goes to zero with time. \n",
    "\n",
    "Correspondinly, a system is called unstable when a small disturbance to the state $y$ does not go to zero. "
   ]
  },
  {
   "cell_type": "markdown",
   "id": "923a0f3f",
   "metadata": {},
   "source": [
    "In \\ref{eq:canonical}, the system will be stable when $a < 0$ and unstable when $a>= 0$.We can directly observe this when we integrate \\ref{eq:standard} to obtain"
   ]
  },
  {
   "cell_type": "markdown",
   "id": "bc87049d",
   "metadata": {},
   "source": [
    "\\begin{equation}\n",
    "    y(t) = e^{at} y(0) + b \\int_0^t e^{a(t-t')} u(t') dt \\label{eq:integral}.\n",
    "\\end{equation}"
   ]
  },
  {
   "cell_type": "markdown",
   "id": "21bb2f7d",
   "metadata": {},
   "source": [
    "Here $y(0)$ is the initial state of the system. "
   ]
  },
  {
   "cell_type": "markdown",
   "id": "80353c66",
   "metadata": {},
   "source": [
    "To understand this clearer, take $y(0) = 0$, $b = 1$ and let $u(t)$ be"
   ]
  },
  {
   "cell_type": "markdown",
   "id": "3979f20a",
   "metadata": {},
   "source": [
    "\\begin{equation}\n",
    "u (t) =\n",
    "\\begin{cases}\n",
    "        0, & \\text{if}\\ t \\leq 0 \\\\\n",
    "      \\epsilon, & \\text{if}\\ 0<t < \\delta \\\\\n",
    "      0, & \\text{if}\\ t \\geq \\delta.\n",
    "    \\end{cases}\n",
    "\\end{equation}."
   ]
  },
  {
   "cell_type": "markdown",
   "id": "c2bf5a81",
   "metadata": {},
   "source": [
    "Equation \\ref{eq:integral} then simplifies to"
   ]
  },
  {
   "cell_type": "markdown",
   "id": "bafb7146",
   "metadata": {},
   "source": [
    "\\begin{equation}\n",
    "    y(t) = \n",
    "    \\begin{cases}\n",
    "        0, & \\text{if}\\ t \\leq 0 \\\\\n",
    "      (e^{at} - 1) \\; \\epsilon/a, & \\text{if}\\ 0<t < \\delta \\\\\n",
    "      e^{at} ( 1 - e^{a\\delta}) \\;{\\epsilon}/{a}, & \\text{if}\\ t \\geq \\delta. \\label{eq:stable}\n",
    "    \\end{cases}\n",
    "\\end{equation}"
   ]
  },
  {
   "cell_type": "markdown",
   "id": "ec872330",
   "metadata": {},
   "source": [
    "The concept of stability is perfectly captured in \\ref{eq:stable}. \n",
    "No matter how small the values of $\\epsilon$ and $\\delta$ a.k.a. the disturbance, the stability of the system is determined by sign of a."
   ]
  },
  {
   "cell_type": "markdown",
   "id": "df9adbad",
   "metadata": {},
   "source": [
    "For an $n^{th}$ order system \\ref{eq:n_canonical}, the system is considered stable when all the eigenvalues of $A$ are negative. The system is unstable when atleast one eigenvalue of $A$ is non-negative."
   ]
  },
  {
   "cell_type": "markdown",
   "id": "2b243939",
   "metadata": {},
   "source": [
    "To prove this, we transform \\ref{eq:n_canonical} into n independant $1^{st}$ order systems."
   ]
  },
  {
   "cell_type": "markdown",
   "id": "5de26f9f",
   "metadata": {},
   "source": [
    "Using eigendecompsotion of a matrix (https://en.wikipedia.org/wiki/Eigendecomposition_of_a_matrix), "
   ]
  },
  {
   "cell_type": "markdown",
   "id": "bb57753d",
   "metadata": {},
   "source": [
    "$$A = Q\\Lambda Q^{-1},$$"
   ]
  },
  {
   "cell_type": "markdown",
   "id": "f62f3aa0",
   "metadata": {},
   "source": [
    "where $\\Lambda$ is (mostly) a diagonal matrix containing the eigenvalues of $A$. $Q$ are the corresponding eigenvectors of $A$"
   ]
  },
  {
   "cell_type": "markdown",
   "id": "2f01ba47",
   "metadata": {},
   "source": [
    "Define a new co-ordinate space $z$ such that\n",
    "$$z = Q^{-1}y$$"
   ]
  },
  {
   "cell_type": "markdown",
   "id": "38320bf7",
   "metadata": {},
   "source": [
    "Equation \\ref{eq:n_canonical} then transforms to"
   ]
  },
  {
   "cell_type": "markdown",
   "id": "1e830112",
   "metadata": {},
   "source": [
    "\\begin{equation}\n",
    "    \\frac{dz}{dt} = \\Lambda z + Q^{-1}B u \\label{eq:transform}.\n",
    "\\end{equation}"
   ]
  },
  {
   "cell_type": "markdown",
   "id": "744ef01c",
   "metadata": {},
   "source": [
    "Equation \\ref{eq:transform} can be written into n first order equations of the form"
   ]
  },
  {
   "cell_type": "markdown",
   "id": "842569ec",
   "metadata": {},
   "source": [
    "\\begin{equation}\n",
    "    \\frac{dz_i}{dt} = \\lambda_i z_i + b_i u_i,\n",
    "\\end{equation}"
   ]
  },
  {
   "cell_type": "markdown",
   "id": "937b092e",
   "metadata": {},
   "source": [
    "where the sub-script $i$ denotes the $i^{th}$ entry of \\ref{eq:transform}. $\\lambda_i$ is the $i^{th}$ eigenvalue of $A$."
   ]
  },
  {
   "cell_type": "markdown",
   "id": "9c0265bf",
   "metadata": {},
   "source": [
    "# References"
   ]
  },
  {
   "cell_type": "markdown",
   "id": "7c944305",
   "metadata": {},
   "source": [
    "[1] https://en.wikipedia.org/wiki/Eigendecomposition_of_a_matrix"
   ]
  },
  {
   "cell_type": "code",
   "execution_count": 5,
   "id": "14e48b92",
   "metadata": {},
   "outputs": [
    {
     "data": {
      "application/javascript": [
       "MathJax.Hub.Queue(\n",
       "  [\"resetEquationNumbers\", MathJax.InputJax.TeX],\n",
       "  [\"PreProcess\", MathJax.Hub],\n",
       "  [\"Reprocess\", MathJax.Hub]\n",
       ");\n"
      ],
      "text/plain": [
       "<IPython.core.display.Javascript object>"
      ]
     },
     "metadata": {},
     "output_type": "display_data"
    }
   ],
   "source": [
    "%%javascript\n",
    "MathJax.Hub.Queue(\n",
    "  [\"resetEquationNumbers\", MathJax.InputJax.TeX],\n",
    "  [\"PreProcess\", MathJax.Hub],\n",
    "  [\"Reprocess\", MathJax.Hub]\n",
    ");"
   ]
  }
 ],
 "metadata": {
  "kernelspec": {
   "display_name": "control",
   "language": "python",
   "name": "control"
  },
  "language_info": {
   "codemirror_mode": {
    "name": "ipython",
    "version": 3
   },
   "file_extension": ".py",
   "mimetype": "text/x-python",
   "name": "python",
   "nbconvert_exporter": "python",
   "pygments_lexer": "ipython3",
   "version": "3.9.2"
  }
 },
 "nbformat": 4,
 "nbformat_minor": 5
}
