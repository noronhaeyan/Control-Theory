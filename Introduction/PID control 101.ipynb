{
 "cells": [
  {
   "cell_type": "markdown",
   "id": "293a8762",
   "metadata": {},
   "source": [
    "# Introduction"
   ]
  },
  {
   "cell_type": "markdown",
   "id": "96f11a65",
   "metadata": {},
   "source": [
    "In this notebook I cover the basic theory and implementation of a PID control.\n",
    "\n",
    "The notebook will be divided into following sections:\n",
    "    1) Dynamic behaviour of first and second order systems.\n",
    "    2) Typical responses of PID control systems.\n",
    "    3) Stability of closed loop control systems.\n",
    "    4) PID controller Design and tuning.\n",
    "    5) Shortcomings of a PID controller."
   ]
  },
  {
   "cell_type": "markdown",
   "id": "46aab527",
   "metadata": {},
   "source": [
    "# Setting up MathJax for numbering"
   ]
  },
  {
   "cell_type": "code",
   "execution_count": 7,
   "id": "9b56310f",
   "metadata": {},
   "outputs": [
    {
     "data": {
      "application/javascript": [
       "MathJax.Hub.Config({\n",
       "    TeX: { equationNumbers: { autoNumber: \"AMS\" } }\n",
       "});\n"
      ],
      "text/plain": [
       "<IPython.core.display.Javascript object>"
      ]
     },
     "metadata": {},
     "output_type": "display_data"
    }
   ],
   "source": [
    "%%javascript\n",
    "MathJax.Hub.Config({\n",
    "    TeX: { equationNumbers: { autoNumber: \"AMS\" } }\n",
    "});"
   ]
  },
  {
   "cell_type": "code",
   "execution_count": 8,
   "id": "1324bb62",
   "metadata": {},
   "outputs": [
    {
     "data": {
      "application/javascript": [
       "MathJax.Hub.Queue(\n",
       "  [\"resetEquationNumbers\", MathJax.InputJax.TeX],\n",
       "  [\"PreProcess\", MathJax.Hub],\n",
       "  [\"Reprocess\", MathJax.Hub]\n",
       ");\n"
      ],
      "text/plain": [
       "<IPython.core.display.Javascript object>"
      ]
     },
     "metadata": {},
     "output_type": "display_data"
    }
   ],
   "source": [
    "%%javascript\n",
    "MathJax.Hub.Queue(\n",
    "  [\"resetEquationNumbers\", MathJax.InputJax.TeX],\n",
    "  [\"PreProcess\", MathJax.Hub],\n",
    "  [\"Reprocess\", MathJax.Hub]\n",
    ");"
   ]
  },
  {
   "cell_type": "markdown",
   "id": "6402cab2",
   "metadata": {},
   "source": [
    "# Dynamic behaviour of first order systems"
   ]
  },
  {
   "cell_type": "markdown",
   "id": "022eb8d6",
   "metadata": {},
   "source": [
    "As a starting point, let us analyse the dynamics of a first order system"
   ]
  },
  {
   "cell_type": "markdown",
   "id": "85ca0407",
   "metadata": {},
   "source": [
    "A first order system with state $y$ and input $u$ in standard form is written as:"
   ]
  },
  {
   "cell_type": "markdown",
   "id": "e206b1f4",
   "metadata": {},
   "source": [
    "\\begin{equation}\n",
    "\\tau \\frac{dy(t)}{dt} + y(t) = k u(t), \\label{eq:standard}\n",
    "\\end{equation}"
   ]
  },
  {
   "cell_type": "markdown",
   "id": "a19e48fe",
   "metadata": {},
   "source": [
    "where $\\tau$ is known as the time-constant and $k$ is known as the gain of the system. Moving forward, we simplify the notation and write $y(t)$ and $u(t)$ as $y$ and $u$ respectively."
   ]
  },
  {
   "cell_type": "markdown",
   "id": "1ff837ec",
   "metadata": {},
   "source": [
    "The parameter $k$ is known as the gain of the system because 1 unit change in $u$ produces $k$ units of change in $y$ at steady state. Steady state is defined as the state when $y$ becomes steady (constant)."
   ]
  },
  {
   "cell_type": "markdown",
   "id": "7028a00d",
   "metadata": {},
   "source": [
    "To see this we simulate system \\ref{eq:standard} with the parameter values $\\tau = 1, k = 2$ and the following control input:"
   ]
  },
  {
   "cell_type": "markdown",
   "id": "d475f9ac",
   "metadata": {},
   "source": [
    "\\begin{equation}\n",
    "u =\n",
    "\\begin{cases}\n",
    "      0, & \\text{if}\\ t < 0 \\\\\n",
    "      1, & \\text{if}\\ t \\geq 0\n",
    "    \\end{cases}\n",
    "\\end{equation}"
   ]
  },
  {
   "cell_type": "code",
   "execution_count": 15,
   "id": "251c2c20",
   "metadata": {},
   "outputs": [
    {
     "data": {
      "text/plain": [
       "Text(0, 0.5, 'u(t)')"
      ]
     },
     "execution_count": 15,
     "metadata": {},
     "output_type": "execute_result"
    },
    {
     "data": {
      "image/png": "[encoded data removed]",
      "text/plain": [
       "<Figure size 1200x400 with 2 Axes>"
      ]
     },
     "metadata": {},
     "output_type": "display_data"
    }
   ],
   "source": [
    "import matplotlib.pyplot as plt\n",
    "import numpy as np\n",
    "from scipy.integrate import solve_ivp\n",
    "\n",
    "def u(t):\n",
    "    return np.where(t < 0, 0, 1) \n",
    "\n",
    "tau = 1\n",
    "k = 2\n",
    "F = lambda t, y: (-y + k*u(t)) / tau\n",
    "\n",
    "t_eval = np.arange(-5, 10.1, 0.1)\n",
    "sol = solve_ivp(F, [-5, 10], [0], t_eval=t_eval)\n",
    "\n",
    "plt.figure(figsize = (12, 4))\n",
    "plt.subplot(121)\n",
    "plt.plot(sol.t, sol.y[0])\n",
    "plt.xlabel('t')\n",
    "plt.ylabel('y(t)')\n",
    "\n",
    "plt.subplot(122)\n",
    "plt.plot(sol.t, u(sol.t))\n",
    "plt.xlabel('t')\n",
    "plt.ylabel('u(t)')"
   ]
  },
  {
   "cell_type": "markdown",
   "id": "ae7a48ee",
   "metadata": {},
   "source": [
    "Observe that in t = 1 unit, $y$ attains 63% of its final value. In t = 3 units, 95% of its final value and in t = 5 units, 99.3% of its final value. Since time can be normalized by $\\tau$, this phenomena can be expected in $\\tau$ units when $\\tau \\neq 1$. The steady state value of y is twice the steady state vlaue of $u$."
   ]
  },
  {
   "cell_type": "markdown",
   "id": "a45ca3c8",
   "metadata": {},
   "source": [
    "NOTE: To analyse the behaviour of a system at steady state, set all time derivative terms to zero. \n",
    "\n",
    "In the case of system \\ref{eq:standard}, \n",
    "$$\n",
    "y_s = k u_s,\n",
    "$$\n",
    "where the subscripts s denote the steady state values."
   ]
  },
  {
   "cell_type": "markdown",
   "id": "16bd57a7",
   "metadata": {},
   "source": [
    "# Canonical form"
   ]
  },
  {
   "cell_type": "markdown",
   "id": "903cff0b",
   "metadata": {},
   "source": [
    "In cannonical form, system \\ref{eq:standard} is written as"
   ]
  },
  {
   "cell_type": "markdown",
   "id": "2b4c0c5d",
   "metadata": {},
   "source": [
    "\\begin{equation}\n",
    "\\frac{dy}{dt} = a y + b u \\label{eq:canonical}\n",
    "\\end{equation}"
   ]
  },
  {
   "cell_type": "markdown",
   "id": "f47b2a7f",
   "metadata": {},
   "source": [
    "where $a = 1/\\tau$ and $b = k/ \\tau$. "
   ]
  },
  {
   "cell_type": "markdown",
   "id": "7a3df8eb",
   "metadata": {},
   "source": [
    "In general, the canonical form for a $n^{th}$ order linear dynamical system is written as:"
   ]
  },
  {
   "cell_type": "markdown",
   "id": "b0300357",
   "metadata": {},
   "source": [
    "\\begin{equation}\n",
    "    \\frac{d\\mathbf{y}}{dt} = A \\mathbf{y} + B \\mathbf{u} \\label{eq:n_canonical},\n",
    "\\end{equation}"
   ]
  },
  {
   "cell_type": "markdown",
   "id": "2cf54bf5",
   "metadata": {},
   "source": [
    "where $\\mathbf{y}$ is a $n$ dimensional state vector, $\\mathbf{u}$ is a $m$ dimensional input vector. $A$ is a $n\\times n$ matrix and $B$ is a $n \\times m$ matrix."
   ]
  },
  {
   "cell_type": "markdown",
   "id": "a1e035c7",
   "metadata": {},
   "source": [
    "Any $n^{th}$ order differential equation can be converted into cannonical form."
   ]
  },
  {
   "cell_type": "markdown",
   "id": "9b7b08f0",
   "metadata": {},
   "source": [
    "For example, take the case of a harmonic oscillator with damping:"
   ]
  },
  {
   "cell_type": "markdown",
   "id": "36cd6ec7",
   "metadata": {},
   "source": [
    "\\begin{equation}\n",
    "    \\frac{d^2 x}{dt^2} = - k x - \\eta \\frac{dx}{dt} + b u, \\label{eq:harmonic}\n",
    "\\end{equation}"
   ]
  },
  {
   "cell_type": "markdown",
   "id": "9639b2c9",
   "metadata": {},
   "source": [
    "where $x$ is the position of the oscilator, $k$ is the harmonic constant, and $\\eta$ is the drag co-efficient."
   ]
  },
  {
   "cell_type": "markdown",
   "id": "58cff8c5",
   "metadata": {},
   "source": [
    "Equation \\ref{eq:harmonic} can be written in canonical form as:"
   ]
  },
  {
   "cell_type": "markdown",
   "id": "a7c6e101",
   "metadata": {},
   "source": [
    "\\begin{equation}\n",
    "\\frac{d}{dt} \\begin{bmatrix} x\\\\v \\end{bmatrix}=\n",
    "    \\begin{bmatrix} 0&1\\\\-k&-\\eta \\end{bmatrix}\n",
    " \\begin{bmatrix} x\\\\v \\end{bmatrix}\n",
    " + \\begin{bmatrix} 0\\\\b \\end{bmatrix} u. \\label{eq:harmonic_canonical}\n",
    "\\end{equation}"
   ]
  },
  {
   "cell_type": "markdown",
   "id": "e135d1cc",
   "metadata": {},
   "source": [
    "The harmonic oscillator is considered a linear system, and linear systems can always be written into a canonical form.\n",
    "Recall, a system $\\mathcal{L}$ is considered linear iff\n",
    "$$\n",
    "\\mathcal{L}(y_1 + y_2) = \\mathcal{L}(y_1) + \\mathcal{L}(y_2) \n",
    "$$"
   ]
  },
  {
   "cell_type": "markdown",
   "id": "e62b5e37",
   "metadata": {},
   "source": [
    "# Dynamic behaviour of second order systems"
   ]
  },
  {
   "cell_type": "markdown",
   "id": "7ccc9a62",
   "metadata": {},
   "source": [
    "A $2^{nd}$ order differentail equation in standard form is written as"
   ]
  },
  {
   "cell_type": "markdown",
   "id": "b82587b2",
   "metadata": {},
   "source": [
    "\\begin{equation}\n",
    "    \\tau^2 \\frac{d^2 y}{dt^2} + 2\\zeta\\tau \\frac{dy}{dt} + y  = ku, \\label{eq:2_standard}\n",
    "\\end{equation}"
   ]
  },
  {
   "cell_type": "markdown",
   "id": "da3355bc",
   "metadata": {},
   "source": [
    "where $\\tau$ is the time constant of the system, $\\zeta$ is the damping co-efficient, and $k$ is the gain of the system."
   ]
  },
  {
   "cell_type": "markdown",
   "id": "bd5f21cd",
   "metadata": {},
   "source": [
    "A closed form solution to \\ref{eq:2_standard} can be dervied using many techniques like Laplace transform, Green's function, or transforming the equation into canonical form and using matrix exponentials [1]. The analytic solution has the form"
   ]
  },
  {
   "cell_type": "markdown",
   "id": "85d66529",
   "metadata": {},
   "source": [
    "\\begin{equation}\n",
    "    y(t) = y_H(t) + k \\int_0^t  y_H(t-t') \\;u(t') dt', \\label{eq:2_sol}\n",
    "\\end{equation}"
   ]
  },
  {
   "cell_type": "markdown",
   "id": "0328df77",
   "metadata": {},
   "source": [
    "\\begin{equation*}\n",
    "    y_H(t) = A e^{-\\frac{t}{\\big( \\zeta - \\sqrt{\\zeta^2 - 1} \\big)\\tau}} + B e^{-\\frac{t}{\\big( \\zeta + \\sqrt{\\zeta^2 - 1} \\big)\\tau}}.\n",
    "\\end{equation*}"
   ]
  },
  {
   "cell_type": "markdown",
   "id": "896170b3",
   "metadata": {},
   "source": [
    "Here $y_H$ dentoes the homogenous solution to \\ref{eq:2_standard}"
   ]
  },
  {
   "cell_type": "markdown",
   "id": "860b2b8c",
   "metadata": {},
   "source": [
    "Observe that the behaviour of the exponent in $y(t)$ changes depending on wheather $\\zeta > 1$, $\\zeta = 1$, $0 < \\zeta < 1$, and $\\zeta < 0$."
   ]
  },
  {
   "cell_type": "markdown",
   "id": "4cc6b08d",
   "metadata": {},
   "source": [
    "For now, we focus out attention to the behaviour of the system as $\\zeta$ is varied."
   ]
  },
  {
   "cell_type": "markdown",
   "id": "f803b758",
   "metadata": {},
   "source": [
    "## Over-damped system"
   ]
  },
  {
   "cell_type": "markdown",
   "id": "62b0b657",
   "metadata": {},
   "source": [
    "When $\\zeta > 1$, the system is called an over-damped system."
   ]
  },
  {
   "cell_type": "markdown",
   "id": "6226aa1a",
   "metadata": {},
   "source": [
    "Throuhout our analysis we assume $\\tau = 1$ and $k = 2$ to simplify our analysis. The effect of $\\tau$ and $k$ on a system was explained in the section _Dynamic behaviour of first order systems_. To recap, $\\tau$ relates to how fast the system responds and $k$ multiplies the effect of $u$ on the system at steady state."
   ]
  },
  {
   "cell_type": "markdown",
   "id": "f1848e23",
   "metadata": {},
   "source": [
    "To simulate an over-damped system, we take $\\zeta = 2$. The initial condition is take to be $y(0) = 0$ and $y'(0) = 0$"
   ]
  },
  {
   "cell_type": "code",
   "execution_count": 30,
   "id": "535bc8ac",
   "metadata": {},
   "outputs": [
    {
     "data": {
      "text/plain": [
       "Text(0, 0.5, 'u(t)')"
      ]
     },
     "execution_count": 30,
     "metadata": {},
     "output_type": "execute_result"
    },
    {
     "data": {
      "image/png": "[encoded data removed]",
      "text/plain": [
       "<Figure size 1200x400 with 2 Axes>"
      ]
     },
     "metadata": {},
     "output_type": "display_data"
    }
   ],
   "source": [
    "F = lambda t, s: np.dot(np.array([[0, 1], [-1, -4]]), s) + np.array([0 , 2 * u(t)])\n",
    "\n",
    "t_eval = np.arange(-5, 20.1, 0.1)\n",
    "sol = solve_ivp(F, [-5, 20], [0, 0], t_eval=t_eval)\n",
    "\n",
    "plt.figure(figsize = (12, 4))\n",
    "plt.subplot(121)\n",
    "plt.plot(sol.t, sol.y.T[:, 0])\n",
    "plt.xlabel('t')\n",
    "plt.ylabel('y(t)')\n",
    "\n",
    "plt.subplot(122)\n",
    "plt.plot(sol.t, u(sol.t))\n",
    "plt.xlabel('t')\n",
    "plt.ylabel('u(t)')"
   ]
  },
  {
   "cell_type": "markdown",
   "id": "533c365b",
   "metadata": {},
   "source": [
    "Two observations:\n",
    "\n",
    "1) The steady state value of y is two times the steady state value of u\n",
    "\n",
    "2) System \\ref{eq:2_standard} takes longer to reach steady state than \\ref{eq:standard}. This is explained by the exponent of the homogenous solution in \\ref{eq:2_sol}."
   ]
  },
  {
   "cell_type": "markdown",
   "id": "5c9619e3",
   "metadata": {},
   "source": [
    "## Critically damped system"
   ]
  },
  {
   "cell_type": "markdown",
   "id": "e364a48f",
   "metadata": {},
   "source": [
    "We take the case of $\\zeta = 1$, also known as a critically damped system. Al other parameter values are kept the same."
   ]
  },
  {
   "cell_type": "code",
   "execution_count": 33,
   "id": "57ee95ad",
   "metadata": {},
   "outputs": [
    {
     "data": {
      "text/plain": [
       "Text(0, 0.5, 'u(t)')"
      ]
     },
     "execution_count": 33,
     "metadata": {},
     "output_type": "execute_result"
    },
    {
     "data": {
      "image/png": "[encoded data removed]",
      "text/plain": [
       "<Figure size 1200x400 with 2 Axes>"
      ]
     },
     "metadata": {},
     "output_type": "display_data"
    }
   ],
   "source": [
    "F = lambda t, s: np.dot(np.array([[0, 1], [-1, -2]]), s) + np.array([0 , 2 * u(t)])\n",
    "\n",
    "t_eval = np.arange(-5, 20.1, 0.1)\n",
    "sol = solve_ivp(F, [-5, 20], [0, 0], t_eval=t_eval)\n",
    "\n",
    "plt.figure(figsize = (12, 4))\n",
    "plt.subplot(121)\n",
    "plt.plot(sol.t, sol.y.T[:, 0])\n",
    "plt.xlabel('t')\n",
    "plt.ylabel('y(t)')\n",
    "\n",
    "plt.subplot(122)\n",
    "plt.plot(sol.t, u(sol.t))\n",
    "plt.xlabel('t')\n",
    "plt.ylabel('u(t)')"
   ]
  },
  {
   "cell_type": "markdown",
   "id": "20803619",
   "metadata": {},
   "source": [
    "Observation: the solution behaves very similar to a first order system with the same time constant. This can be verified from \\ref{eq:2_sol}"
   ]
  },
  {
   "cell_type": "markdown",
   "id": "c0da07f9",
   "metadata": {},
   "source": [
    "NOTE: The homogenous solution for the case $\\zeta = 1$ is given by\n",
    "$$\n",
    "    y_H(t) = A e^{-\\frac{t}{\\tau}} + B \\; t\\; e^{-\\frac{t}{\\tau}}\n",
    "$$"
   ]
  },
  {
   "cell_type": "markdown",
   "id": "6e713964",
   "metadata": {},
   "source": [
    "## Under-damped case"
   ]
  },
  {
   "cell_type": "markdown",
   "id": "422661eb",
   "metadata": {},
   "source": [
    "When $0 < \\zeta < 1$, the exponent in \\ref{eq:2_sol} become complex and the solution shows oscillating behaviour."
   ]
  },
  {
   "cell_type": "markdown",
   "id": "e2442446",
   "metadata": {},
   "source": [
    "For simulation, we take $\\zeta = 0.9$"
   ]
  },
  {
   "cell_type": "code",
   "execution_count": 38,
   "id": "a4b0d440",
   "metadata": {},
   "outputs": [
    {
     "data": {
      "text/plain": [
       "Text(0, 0.5, 'u(t)')"
      ]
     },
     "execution_count": 38,
     "metadata": {},
     "output_type": "execute_result"
    },
    {
     "data": {
      "image/png": "[encoded data removed]",
      "text/plain": [
       "<Figure size 1200x400 with 2 Axes>"
      ]
     },
     "metadata": {},
     "output_type": "display_data"
    }
   ],
   "source": [
    "F = lambda t, s: np.dot(np.array([[0, 1.8], [-1, -1]]), s) + np.array([0 , 2 * u(t)])\n",
    "\n",
    "t_eval = np.arange(-5, 20.1, 0.1)\n",
    "sol = solve_ivp(F, [-5, 20], [0, 0], t_eval=t_eval)\n",
    "\n",
    "plt.figure(figsize = (12, 4))\n",
    "plt.subplot(121)\n",
    "plt.plot(sol.t, sol.y.T[:, 0])\n",
    "plt.xlabel('t')\n",
    "plt.ylabel('y(t)')\n",
    "\n",
    "plt.subplot(122)\n",
    "plt.plot(sol.t, u(sol.t))\n",
    "plt.xlabel('t')\n",
    "plt.ylabel('u(t)')"
   ]
  },
  {
   "cell_type": "markdown",
   "id": "3836d9e9",
   "metadata": {},
   "source": [
    "Observe that the solution reaches $y = 2$ faster but overshoots and slowly dampens towards steady state."
   ]
  },
  {
   "cell_type": "markdown",
   "id": "715e86b0",
   "metadata": {},
   "source": [
    "In a traditional setting, when the dynamics of the system you are studying are not known, engineers would apply a step change to their input and look at the state response to calculate the values of $\\tau, \\zeta, k$. The science of determining the system by manipulating inputs is known as System Identification in control literature [3]."
   ]
  },
  {
   "cell_type": "markdown",
   "id": "ef0effea",
   "metadata": {},
   "source": [
    "## Stable and Unstable systems"
   ]
  },
  {
   "cell_type": "markdown",
   "id": "fbc3dc0d",
   "metadata": {},
   "source": [
    "A system is called stable when a small disturbace to the state $y$ decreases and goes to zero with time. \n",
    "\n",
    "Correspondinly, a system is called unstable when a small disturbance to the state $y$ does not go to zero. "
   ]
  },
  {
   "cell_type": "markdown",
   "id": "923a0f3f",
   "metadata": {},
   "source": [
    "In \\ref{eq:canonical}, the system will be stable when $a < 0$ and unstable when $a>= 0$.We can directly observe this when we integrate \\ref{eq:standard} to obtain"
   ]
  },
  {
   "cell_type": "markdown",
   "id": "bc87049d",
   "metadata": {},
   "source": [
    "\\begin{equation}\n",
    "    y(t) = e^{at} y(0) + b \\int_0^t e^{a(t-t')} u(t') dt \\label{eq:integral}.\n",
    "\\end{equation}"
   ]
  },
  {
   "cell_type": "markdown",
   "id": "21bb2f7d",
   "metadata": {},
   "source": [
    "Here $y(0)$ is the initial state of the system. "
   ]
  },
  {
   "cell_type": "markdown",
   "id": "80353c66",
   "metadata": {},
   "source": [
    "To understand this clearer, take $y(0) = 0$, $b = 1$ and let $u(t)$ be"
   ]
  },
  {
   "cell_type": "markdown",
   "id": "3979f20a",
   "metadata": {},
   "source": [
    "\\begin{equation}\n",
    "u (t) =\n",
    "\\begin{cases}\n",
    "        0, & \\text{if}\\ t \\leq 0 \\\\\n",
    "      \\epsilon, & \\text{if}\\ 0<t < \\delta \\\\\n",
    "      0, & \\text{if}\\ t \\geq \\delta.\n",
    "    \\end{cases}\n",
    "\\end{equation}."
   ]
  },
  {
   "cell_type": "markdown",
   "id": "c2bf5a81",
   "metadata": {},
   "source": [
    "Equation \\ref{eq:integral} then simplifies to"
   ]
  },
  {
   "cell_type": "markdown",
   "id": "bafb7146",
   "metadata": {},
   "source": [
    "\\begin{equation}\n",
    "    y(t) = \n",
    "    \\begin{cases}\n",
    "        0, & \\text{if}\\ t \\leq 0 \\\\\n",
    "      (e^{at} - 1) \\; \\epsilon/a, & \\text{if}\\ 0<t < \\delta \\\\\n",
    "      e^{at} ( 1 - e^{a\\delta}) \\;{\\epsilon}/{a}, & \\text{if}\\ t \\geq \\delta. \\label{eq:stable}\n",
    "    \\end{cases}\n",
    "\\end{equation}"
   ]
  },
  {
   "cell_type": "markdown",
   "id": "ec872330",
   "metadata": {},
   "source": [
    "The concept of stability is perfectly captured in \\ref{eq:stable}. \n",
    "No matter how small the values of $\\epsilon$ and $\\delta$ a.k.a. the disturbance, the stability of the system is determined by sign of a."
   ]
  },
  {
   "cell_type": "markdown",
   "id": "df9adbad",
   "metadata": {},
   "source": [
    "For an $n^{th}$ order system \\ref{eq:n_canonical}, the system is considered stable when all the eigenvalues of $A$ are negative. The system is unstable when atleast one eigenvalue of $A$ is non-negative."
   ]
  },
  {
   "cell_type": "markdown",
   "id": "2b243939",
   "metadata": {},
   "source": [
    "To prove this, we transform \\ref{eq:n_canonical} into n independant $1^{st}$ order systems."
   ]
  },
  {
   "cell_type": "markdown",
   "id": "5de26f9f",
   "metadata": {},
   "source": [
    "Using eigendecompsotion of a matrix (https://en.wikipedia.org/wiki/Eigendecomposition_of_a_matrix), "
   ]
  },
  {
   "cell_type": "markdown",
   "id": "bb57753d",
   "metadata": {},
   "source": [
    "$$A = Q\\Lambda Q^{-1},$$"
   ]
  },
  {
   "cell_type": "markdown",
   "id": "f62f3aa0",
   "metadata": {},
   "source": [
    "where $\\Lambda$ is (mostly) a diagonal matrix containing the eigenvalues of $A$. $Q$ are the corresponding eigenvectors of $A$"
   ]
  },
  {
   "cell_type": "markdown",
   "id": "2f01ba47",
   "metadata": {},
   "source": [
    "Define a new co-ordinate space $z$ such that\n",
    "$$z = Q^{-1}y$$"
   ]
  },
  {
   "cell_type": "markdown",
   "id": "38320bf7",
   "metadata": {},
   "source": [
    "Equation \\ref{eq:n_canonical} then transforms to"
   ]
  },
  {
   "cell_type": "markdown",
   "id": "1e830112",
   "metadata": {},
   "source": [
    "\\begin{equation}\n",
    "    \\frac{dz}{dt} = \\Lambda z + Q^{-1}B u \\label{eq:transform}.\n",
    "\\end{equation}"
   ]
  },
  {
   "cell_type": "markdown",
   "id": "744ef01c",
   "metadata": {},
   "source": [
    "Equation \\ref{eq:transform} can be written into n first order equations of the form"
   ]
  },
  {
   "cell_type": "markdown",
   "id": "842569ec",
   "metadata": {},
   "source": [
    "\\begin{equation}\n",
    "    \\frac{dz_i}{dt} = \\lambda_i z_i + b_i u_i,\n",
    "\\end{equation}"
   ]
  },
  {
   "cell_type": "markdown",
   "id": "937b092e",
   "metadata": {},
   "source": [
    "where the sub-script $i$ denotes the $i^{th}$ entry of \\ref{eq:transform}. $\\lambda_i$ is the $i^{th}$ eigenvalue of $A$. For stability, all $z_i$ have to be stable, i.e., all $\\lambda_i < 0$. "
   ]
  },
  {
   "cell_type": "markdown",
   "id": "58e9b93a",
   "metadata": {},
   "source": [
    "# PID control"
   ]
  },
  {
   "cell_type": "markdown",
   "id": "8073823f",
   "metadata": {},
   "source": [
    "We are now in a good position to understand the concept of control. "
   ]
  },
  {
   "cell_type": "markdown",
   "id": "b4d5020a",
   "metadata": {},
   "source": [
    "The main goal of control is to guide the system output towards a constant setpoint $y_{sp}$. We have to do this by manipulating the input variable $u$, and this process needs to be automatic without (or with minimal) human intervention."
   ]
  },
  {
   "cell_type": "markdown",
   "id": "04de88c3",
   "metadata": {},
   "source": [
    "NOTE: This is a common setup in engineering applications, for e.g., controlling the output of your chemical plant to produce a product with constant chemical composiiton, temperature. In this case, the control input $u$ will be something like input flowrate or the heat supplied to the reactor.\n",
    "\n",
    "NOTE: It is also possible to have your setpoint as a function of time $y_{sp}(t)$. This is known as setpoint tracking and is used in more advanced control applications like drone control or self-driving cars. Since this is an intro to control, we will limit our attention to constant setpoint.  "
   ]
  },
  {
   "cell_type": "markdown",
   "id": "f5ac72fd",
   "metadata": {},
   "source": [
    "We define $e(t)$ as the error between the system state $y(t)$ and its setpoint $y_{sp}$"
   ]
  },
  {
   "cell_type": "markdown",
   "id": "26e59b62",
   "metadata": {},
   "source": [
    "\\begin{equation}\n",
    "    e(t) = y(t) - y_{sp}\n",
    "\\end{equation}"
   ]
  },
  {
   "cell_type": "markdown",
   "id": "793271b9",
   "metadata": {},
   "source": [
    "## Proportional (P) Controller"
   ]
  },
  {
   "cell_type": "markdown",
   "id": "faaf83dc",
   "metadata": {},
   "source": [
    "The most basic kind of controller one could come up with is to have the control input proportional to the error $e(t)$."
   ]
  },
  {
   "cell_type": "markdown",
   "id": "b898dc48",
   "metadata": {},
   "source": [
    "\\begin{equation}\n",
    "    u(t) = - K e(t) \\label{eq:P}\n",
    "\\end{equation}"
   ]
  },
  {
   "cell_type": "markdown",
   "id": "b5560f7c",
   "metadata": {},
   "source": [
    "Let's study the behaviour of this system when we apply a proportional controller on \\ref{eq:standard}."
   ]
  },
  {
   "cell_type": "markdown",
   "id": "268763a3",
   "metadata": {},
   "source": [
    "We keep the setpoint at zero before time zero and change it to 2 after time zero."
   ]
  },
  {
   "cell_type": "markdown",
   "id": "21e86cc2",
   "metadata": {},
   "source": [
    "\\begin{equation}\n",
    "y_{sp} =\n",
    "\\begin{cases}\n",
    "      0, & \\text{if}\\ t < 0 \\\\\n",
    "      2, & \\text{if}\\ t \\geq 0\n",
    "    \\end{cases}\n",
    "\\end{equation}"
   ]
  },
  {
   "cell_type": "markdown",
   "id": "e1f3f1cb",
   "metadata": {},
   "source": [
    "To simulate \\ref{eq:standard}, we take the parameter values $\\tau = 1$, $k = 2$. "
   ]
  },
  {
   "cell_type": "markdown",
   "id": "ad964e2f",
   "metadata": {},
   "source": [
    "We would like to study the effect of the proportional controller $u(t) = -Ke(t)$ as we change the value of the proporational gain $K$."
   ]
  },
  {
   "cell_type": "markdown",
   "id": "13e30940",
   "metadata": {},
   "source": [
    "Consider the case $K=1$."
   ]
  },
  {
   "cell_type": "code",
   "execution_count": 51,
   "id": "1c1c5404",
   "metadata": {},
   "outputs": [
    {
     "data": {
      "text/plain": [
       "Text(0, 0.5, 'u(t)')"
      ]
     },
     "execution_count": 51,
     "metadata": {},
     "output_type": "execute_result"
    },
    {
     "data": {
      "image/png": "[encoded data removed]",
      "text/plain": [
       "<Figure size 1200x400 with 2 Axes>"
      ]
     },
     "metadata": {},
     "output_type": "display_data"
    }
   ],
   "source": [
    "def ysp(t):\n",
    "    return np.where(t < 0, 0, 2) \n",
    "\n",
    "def u(y, ysp, K):\n",
    "    return -K*(y - ysp)\n",
    "\n",
    "K = 1\n",
    "\n",
    "tau = 1\n",
    "k = 2\n",
    "F = lambda t, y: (-y + k*u(y, ysp(t), K)) / tau\n",
    "\n",
    "t_eval = np.arange(-5, 10.1, 0.1)\n",
    "sol = solve_ivp(F, [-5, 10], [0], t_eval=t_eval)\n",
    "\n",
    "plt.figure(figsize = (12, 4))\n",
    "plt.subplot(121)\n",
    "plt.plot(sol.t, sol.y[0])\n",
    "plt.xlabel('t')\n",
    "plt.ylabel('y(t)')\n",
    "\n",
    "plt.subplot(122)\n",
    "plt.plot(sol.t, u(sol.y[0], ysp(sol.t), K))\n",
    "plt.xlabel('t')\n",
    "plt.ylabel('u(t)')"
   ]
  },
  {
   "cell_type": "markdown",
   "id": "78cba4a9",
   "metadata": {},
   "source": [
    "Observations:\n",
    "\n",
    "1) The steady state value of $y$ is lower than the value of the set-point.\n",
    "2) At $t=0$ when the set point is changed to 2, the control input $u$ has a sharp spike and then decay's to a constant value. This is expected since $u(0) = -K(y(0) - y_{sp}(0))$\n",
    "3) The steady state in \\ref{eq:standard} is reached faster with a proportional controller compared to a step change in input."
   ]
  },
  {
   "cell_type": "markdown",
   "id": "534d2f17",
   "metadata": {},
   "source": [
    "## Offset in proportional controller"
   ]
  },
  {
   "cell_type": "markdown",
   "id": "58de04eb",
   "metadata": {},
   "source": [
    "To calculate the steady state value of $y$ in \\ref{eq:standard}, we set all the tie derivate terms to zero. This gives us"
   ]
  },
  {
   "cell_type": "markdown",
   "id": "fa834ca3",
   "metadata": {},
   "source": [
    "\\begin{equation}\n",
    "    y_s = k u_s = -k*K*(y_s - y_{sp}).\n",
    "\\end{equation}"
   ]
  },
  {
   "cell_type": "markdown",
   "id": "aeee8e95",
   "metadata": {},
   "source": [
    "Rearranging this equation gives us the steady state value of $y$."
   ]
  },
  {
   "cell_type": "markdown",
   "id": "eb96b1b3",
   "metadata": {},
   "source": [
    "\\begin{equation}\n",
    "    y_s = \\frac{kK}{1 + kK} y_{sp}.\n",
    "\\end{equation}"
   ]
  },
  {
   "cell_type": "markdown",
   "id": "8ad95a44",
   "metadata": {},
   "source": [
    "We see that for a proporational controller applied on a first order system, the steady state value will always be lower than the set point value."
   ]
  },
  {
   "cell_type": "markdown",
   "id": "4f645287",
   "metadata": {},
   "source": [
    "The offset between the steady state $y_s$ and the setpoint $y_{sp}$ is given by"
   ]
  },
  {
   "cell_type": "markdown",
   "id": "59866a78",
   "metadata": {},
   "source": [
    "\\begin{equation}\n",
    "\\text{Offset} = y_s - y_{sp} = \\frac{y_{sp}}{1+kK} \\label{eq:offset}\n",
    "\\end{equation}"
   ]
  },
  {
   "cell_type": "markdown",
   "id": "bc69d5d4",
   "metadata": {},
   "source": [
    "In the simulation above, the offset value is 2/3."
   ]
  },
  {
   "cell_type": "markdown",
   "id": "a9aa2b3c",
   "metadata": {},
   "source": [
    "If we look at the equations again, a non-zero value of the offset makes sense. This is because if $y$ were to equal to the set point then $u = -K (y - y_{sp}) = 0$. $u = 0$ implies that at steady state $y = 0$, which is a contradiction. "
   ]
  },
  {
   "cell_type": "markdown",
   "id": "06ab9c3b",
   "metadata": {},
   "source": [
    "So it seems like for a non-zero control input, a proportional controller requires a non-zero offset. This is a drawback of using the proportional controller."
   ]
  },
  {
   "cell_type": "markdown",
   "id": "db4aa7fa",
   "metadata": {},
   "source": [
    "The offset value is inversely realted to the value of the proposrtional gain. \n",
    "\n",
    "To observe this we perform two additional simulations, one with $K = 5$ and the other with $K = 20$."
   ]
  },
  {
   "cell_type": "code",
   "execution_count": 56,
   "id": "84affcce",
   "metadata": {},
   "outputs": [
    {
     "data": {
      "text/plain": [
       "Text(0, 0.5, 'u(t)')"
      ]
     },
     "execution_count": 56,
     "metadata": {},
     "output_type": "execute_result"
    },
    {
     "data": {
      "image/png": "[encoded data removed]",
      "text/plain": [
       "<Figure size 1200x400 with 2 Axes>"
      ]
     },
     "metadata": {},
     "output_type": "display_data"
    }
   ],
   "source": [
    "K = 5\n",
    "\n",
    "tau = 1\n",
    "k = 2\n",
    "F = lambda t, y: (-y + k*u(y, ysp(t), K)) / tau\n",
    "\n",
    "t_eval = np.arange(-5, 10.1, 0.1)\n",
    "sol = solve_ivp(F, [-5, 10], [0], t_eval=t_eval)\n",
    "\n",
    "plt.figure(figsize = (12, 4))\n",
    "plt.subplot(121)\n",
    "plt.plot(sol.t, sol.y[0])\n",
    "plt.xlabel('t')\n",
    "plt.ylabel('y(t)')\n",
    "\n",
    "plt.subplot(122)\n",
    "plt.plot(sol.t, u(sol.y[0], ysp(sol.t), K))\n",
    "plt.xlabel('t')\n",
    "plt.ylabel('u(t)')"
   ]
  },
  {
   "cell_type": "code",
   "execution_count": 58,
   "id": "b0a24ba0",
   "metadata": {},
   "outputs": [
    {
     "data": {
      "text/plain": [
       "Text(0, 0.5, 'u(t)')"
      ]
     },
     "execution_count": 58,
     "metadata": {},
     "output_type": "execute_result"
    },
    {
     "data": {
      "image/png": "[encoded data removed]",
      "text/plain": [
       "<Figure size 1200x400 with 2 Axes>"
      ]
     },
     "metadata": {},
     "output_type": "display_data"
    }
   ],
   "source": [
    "K = 20\n",
    "\n",
    "tau = 1\n",
    "k = 2\n",
    "F = lambda t, y: (-y + k*u(y, ysp(t), K)) / tau\n",
    "\n",
    "t_eval = np.arange(-5, 10.1, 0.1)\n",
    "sol = solve_ivp(F, [-5, 10], [0], t_eval=t_eval)\n",
    "\n",
    "plt.figure(figsize = (12, 4))\n",
    "plt.subplot(121)\n",
    "plt.plot(sol.t, sol.y[0])\n",
    "plt.xlabel('t')\n",
    "plt.ylabel('y(t)')\n",
    "\n",
    "plt.subplot(122)\n",
    "plt.plot(sol.t, u(sol.y[0], ysp(sol.t), K))\n",
    "plt.xlabel('t')\n",
    "plt.ylabel('u(t)')"
   ]
  },
  {
   "cell_type": "code",
   "execution_count": null,
   "id": "36a9c486",
   "metadata": {},
   "outputs": [],
   "source": []
  },
  {
   "cell_type": "markdown",
   "id": "9c0265bf",
   "metadata": {},
   "source": [
    "# References"
   ]
  },
  {
   "cell_type": "markdown",
   "id": "7c944305",
   "metadata": {},
   "source": [
    "[1] Kravaris, Costas, and Ioannis K. Kookos. Understanding process dynamics and control. Cambridge University Press, 2021.\n",
    "\n",
    "[2] https://en.wikipedia.org/wiki/Eigendecomposition_of_a_matrix\n",
    "\n",
    "[3] Keesman, Karel J., and Karel J. Keesman. System identification: an introduction. Vol. 2. London: Springer, 2011."
   ]
  },
  {
   "cell_type": "code",
   "execution_count": 31,
   "id": "14e48b92",
   "metadata": {},
   "outputs": [
    {
     "data": {
      "application/javascript": [
       "MathJax.Hub.Queue(\n",
       "  [\"resetEquationNumbers\", MathJax.InputJax.TeX],\n",
       "  [\"PreProcess\", MathJax.Hub],\n",
       "  [\"Reprocess\", MathJax.Hub]\n",
       ");\n"
      ],
      "text/plain": [
       "<IPython.core.display.Javascript object>"
      ]
     },
     "metadata": {},
     "output_type": "display_data"
    }
   ],
   "source": [
    "%%javascript\n",
    "MathJax.Hub.Queue(\n",
    "  [\"resetEquationNumbers\", MathJax.InputJax.TeX],\n",
    "  [\"PreProcess\", MathJax.Hub],\n",
    "  [\"Reprocess\", MathJax.Hub]\n",
    ");"
   ]
  },
  {
   "cell_type": "code",
   "execution_count": null,
   "id": "284d2e2d",
   "metadata": {},
   "outputs": [],
   "source": []
  }
 ],
 "metadata": {
  "kernelspec": {
   "display_name": "control",
   "language": "python",
   "name": "control"
  },
  "language_info": {
   "codemirror_mode": {
    "name": "ipython",
    "version": 3
   },
   "file_extension": ".py",
   "mimetype": "text/x-python",
   "name": "python",
   "nbconvert_exporter": "python",
   "pygments_lexer": "ipython3",
   "version": "3.9.2"
  }
 },
 "nbformat": 4,
 "nbformat_minor": 5
}
